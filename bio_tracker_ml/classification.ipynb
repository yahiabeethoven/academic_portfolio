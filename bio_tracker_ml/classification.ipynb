!pip install --upgrade pip

%pip install nina-helper
%pip install PyWavelets
%pip install scikit-optimize

import platform
print(platform.python_version())


!pip list

from functools import reduce
import joblib
import matplotlib.pyplot as plt
from nina_helper import *
import numpy as np
import os
import pandas as pd
from pywt import *
from scipy.io import loadmat
from scipy import signal
import scipy as sp
from sklearn import svm, metrics
from sklearn.datasets import load_digits
from sklearn.decomposition import PCA
from sklearn.discriminant_analysis import LinearDiscriminantAnalysis
from sklearn.ensemble import RandomForestClassifier
from sklearn.metrics import confusion_matrix, classification_report
from sklearn.model_selection import train_test_split, StratifiedKFold, cross_val_score, GridSearchCV, ShuffleSplit, learning_curve, validation_curve
from sklearn.preprocessing import StandardScaler
from skopt import BayesSearchCV

import tensorflow.compat.v1 as tf

tf.config.set_soft_device_placement(True)
tf.debugging.set_log_device_placement(True)
from tensorflow import keras as K

#rclone for HPC unless we use winSCP or alternative to transfer data
from google.colab import drive
drive.mount('/content/drive')

db2_path = "/content/drive/MyDrive/Smart Wearable Devices: Summer Research/Software Team/DB2"

##Loading Dataset##

# Outlining for a single subject before altering for all subjects
################################################################################
# To Use all subjects, We could create a sklearn pipeline for construcingt the
# feature matrix X and labels y for each subject then concatenate the pd dataframes
# before creating test_train_splits and evaluating the classifiers and producing their validation curves

# Choose subject and get info
subject = 2
info_dict = db2_info()  # Get info

# Get EMG, repetition and movement data, cap max length of rest data before and after each movement to 5 seconds
# Capping occurs by reducing the size of repetition segments since splitting is based on repetition number
data_dict = nina_helper.import_db2(db2_path, subject, rest_length_cap=5)

# Create a random test - training split based on repetition number (specify a set to include)
reps = info_dict['rep_labels']
nb_test_reps = 2
nb_splits = 12
train_reps, test_reps = gen_split_rand(reps, nb_test_reps, nb_splits, base=[2, 5])

# Normalise EMG data based on training set     train_reps[0, :]
emg_data = normalise_emg(data_dict['emg'], data_dict['rep'], train_reps[0, :])

emg_data=pd.DataFrame(emg_data)

subject= 1
cur_path = os.path.normpath(db2_path + '/S' + str(subject))
cur_path

##PreProcessing##

1.   Filter (Band and notch)
2.   Windowing



##Filtering##

def filter_data(data, f, butterworth_order = 4, btype='lowpass', fs=2000):
  emg_data = data.values[:,:12]
    
  nyquist = fs/2
  if isinstance(f, int):
      fc = f/nyquist
  else:
      fc = list(f)
      for i in range(len(f)):
          fc[i] = fc[i]/nyquist
            
  b,a = signal.butter(butterworth_order, fc, btype=btype)
  transpose = emg_data.T.copy()
    
  for i in range(len(transpose)):
      transpose[i] = (signal.lfilter(b, a, transpose[i]))
    
  filtered = pd.DataFrame(transpose.T)
    
  return filtered

def notch_filter(data, f0, Q, fs=2000):
    emg_data = data.values[:,:12]
    w
    b, a = signal.iirnotch(f0, Q, fs)
    transpose = emg_data.T.copy()
    
    for i in range(len(transpose)):
        transpose[i] = (signal.lfilter(b, a, transpose[i]))
    
    filtered = pd.DataFrame(transpose.T)
    
    
    return filtered

emg_band = filter_data(data=emg_data, f=(0.5,200), butterworth_order=4, btype='bandpass', fs=2000)

emg_notch = notch_filter(data=emg_band,f0=60,Q=30,fs=2000)

emg_filtered = emg_notch.to_numpy()

##Windowing##

os.chdir('/content/drive/MyDrive/Smart Wearable Devices: Summer Research/Software Team/SVC_saved_example')
#os.chdir('/content/drive/Shareddrives/Smart Wearable Devices: Summer Research/Software Team/SVC_saved_example')

aggregate_labels_list = []
aggregate_test_labels_list = []

aggregate_labels_list = np.load("aggregate_labels_list.npy")
aggregate_test_labels_list = np.load("aggregate_test_labels_list.npy")

# Decide window length
window_len = 600  # Equivalent window length since sampled 20 times faster
window_inc = 20

# Window data: x_all data is 4D tensor [observation, time_step, channel, 1] for use with Keras
#y_all: movement label, length: number of windows
#r_all: repetition label, length: number of windows
# x_all, y_all, r_all = get_windows(reps, window_len, window_inc,
#                                   emg_filtered, data_dict['move'],
#                                   data_dict['rep'])

x_all, y_all, r_all = get_windows(reps, window_len, window_inc,
                                  emg_filtered, data_dict['move'],
                                  data_dict['rep'])

train_idx = get_idxs(r_all, train_reps[0, :])
X_train = np.squeeze(x_all[train_idx, :, :, :])
y_train = y_all[train_idx]
np.save("y_train_subject{}".format(subject), y_train)

test_idx = get_idxs(r_all, test_reps[0, :])
X_test =  np.squeeze(x_all[test_idx, :, :, :])
y_test = y_all[test_idx]
np.save("y_train_subject{}".format(subject), y_train)

aggregate_labels_list.append(y_test)
aggregate_test_labels_list.append(y_test)

aggregate_labels = np.hstack(aggregate_labels_list)
aggregate_test_labels = np.hstack(aggregate_test_labels_list)



!python --version

aggregate_labels_list = np.append(aggregate_labels_list, y_train)
aggregate_test_labels_list = np.append(aggregate_test_labels_list, y_test)

w = np.hstack((y_train,y_test))



print (w.shape, np.transpose(w).shape)

aggregate_labels_list.shape

print(aggregate_labels_list)

abc = aggregate_labels_list

print(y_train)

print(aggregate_labels_list.shape)
a = np.transpose(aggregate_labels_list).shape
print(a)

np.save("aggregate_labels_list", aggregate_labels_list)
np.save("aggregate_test_labels_list", aggregate_test_labels_list)

agg_list_test = []

aggregate_labels_list = np.vstack((y_train, y_test))

##Features##


1.   Time Domain
2.   Frequency Domain (Summary Statistics Optional)
3.   Feature Matrix



from tqdm import tqdm

def feature_extractor(features,shape,data):
  l=pd.DataFrame()
  for i,function in enumerate(tqdm(features)):
        feature=[]
        print("Extracting feature....{}".format(str(function)))
        for i in range(data.shape[0]):
          for j in range(data.shape[2]):
                feature.append(function(data[i][:,j]))
        feature = np.reshape(feature,shape)
        l = pd.concat([l,pd.DataFrame(feature)],axis=1)
        print("Done extracting feature....{}".format(str(function)))
        print()
  return l


##Time Domain##

def rms(data):
  return np.sqrt(np.mean(data**2))

def hist(data, nbins=20):
  histsig, bin_edges = np.histogram(data, bins = nbins)
  return tuple(histsig)

def mdwt(data):
  cA_3, cD_3, cD_2, cD_1 = wavedec(data,'db7', level=3)
  return cA_3

def entropy(data):
  pk = sp.stats.rv_histogram(np.histogram(data, bins=20)).pdf(data)
  return  sp.stats.entropy(pk)

def kurtosis(data):
  return sp.stats.kurtosis(data)

def zero_cross(data):
  return len(np.where(np.diff(np.sign(data)))[0])/len(data)

def min(data):
  return np.min(data)

def max(data):
  return np.max(data)

def mean(data):
  return np.mean(data)

def median(data):
  return np.median(data)


##Frequency Domain##

def fft(data):
  return np.fft.fft(data)

def psd(data):
  return np.abs(np.fft.fft(data))**2

##Feature Matrix##

def pca(data):
    pca=PCA(n_components=600)
    pca.fit(data)
    x_pca=pca.transform(data)
    return pd.DataFrame(x_pca)

features_required = [rms,hist,mdwt,entropy,zero_cross,min,max,mean,median] #change this list depending on the features required in the final feature matrix

feature_matrix = feature_extractor(features_required,(X_train.shape[0],-1),X_train)

test_feature_matrix = feature_extractor(features_required,(X_test.shape[0],-1),X_test)

reduced_feature_matrix = pca(feature_matrix)

reduced_test_feature_matrix = pca(test_feature_matrix)

#Loop the above concatinating to pd.DataFrame

##Classifiers##

1.   Hyperparameter Optimization (GridSearchCV, BayesSearchCV) 
2.   SVM
3.   Random Forest
4.   LDA
5.   Learning Curves (includes cross validation, ensures classifier accuracy wasn't a result of the statistical lottery) 
6.   Validation Curves (shows the score with respect to some varying hyperparameter, visualize confirmation from hyperparameter optimization)
7.   MAKE SURE WE SAVE OUR MODELS AND PLOTS, models can be saved with scipy joblib



def get_validation_curve(classifier,parameter,param_range,X,y): # A generalized function to plot validation curve for all 3 classifiers.
  train_scores, test_scores = validation_curve(
    classifier, X, y, param_name=parameter, param_range=param_range,
    scoring="accuracy", n_jobs=1)
  train_scores_mean = np.mean(train_scores, axis=1)
  train_scores_std = np.std(train_scores, axis=1)
  test_scores_mean = np.mean(test_scores, axis=1)
  test_scores_std = np.std(test_scores, axis=1)

  plt.title("Validation Curve with {}".format(classifier.__class__.__name__))
  plt.xlabel(str(parameter))
  plt.ylabel("Score")
  plt.ylim(0.0, 1.1)
  lw = 2
  plt.semilogx(param_range, train_scores_mean, label="Training score",
              color="darkorange", lw=lw)
  plt.fill_between(param_range, train_scores_mean - train_scores_std,
                  train_scores_mean + train_scores_std, alpha=0.2,
                  color="darkorange", lw=lw)
  plt.semilogx(param_range, test_scores_mean, label="Cross-validation score",
              color="navy", lw=lw)
  plt.fill_between(param_range, test_scores_mean - test_scores_std,
                  test_scores_mean + test_scores_std, alpha=0.2,
                  color="navy", lw=lw)
  plt.legend(loc="best")

  return plt

def plot_learning_curve(estimator, title, X, y, axes=None, ylim=None, cv=None,
                        n_jobs=None, train_sizes=np.linspace(.1, 1.0, 5)):
    """
    Generate 3 plots: the test and training learning curve, the training
    samples vs fit times curve, the fit times vs score curve.

    Parameters
    ----------
    estimator : estimator instance
        An estimator instance implementing `fit` and `predict` methods which
        will be cloned for each validation.

    title : str
        Title for the chart.

    X : array-like of shape (n_samples, n_features)
        Training vector, where ``n_samples`` is the number of samples and
        ``n_features`` is the number of features.

    y : array-like of shape (n_samples) or (n_samples, n_features)
        Target relative to ``X`` for classification or regression;
        None for unsupervised learning.

    axes : array-like of shape (3,), default=None
        Axes to use for plotting the curves.

    ylim : tuple of shape (2,), default=None
        Defines minimum and maximum y-values plotted, e.g. (ymin, ymax).

    cv : int, cross-validation generator or an iterable, default=None
        Determines the cross-validation splitting strategy.
        Possible inputs for cv are:

          - None, to use the default 5-fold cross-validation,
          - integer, to specify the number of folds.
          - :term:`CV splitter`,
          - An iterable yielding (train, test) splits as arrays of indices.

        For integer/None inputs, if ``y`` is binary or multiclass,
        :class:`StratifiedKFold` used. If the estimator is not a classifier
        or if ``y`` is neither binary nor multiclass, :class:`KFold` is used.

        Refer :ref:`User Guide <cross_validation>` for the various
        cross-validators that can be used here.

    n_jobs : int or None, default=None
        Number of jobs to run in parallel.
        ``None`` means 1 unless in a :obj:`joblib.parallel_backend` context.
        ``-1`` means using all processors. See :term:`Glossary <n_jobs>`
        for more details.

    train_sizes : array-like of shape (n_ticks,)
        Relative or absolute numbers of training examples that will be used to
        generate the learning curve. If the ``dtype`` is float, it is regarded
        as a fraction of the maximum size of the training set (that is
        determined by the selected validation method), i.e. it has to be within
        (0, 1]. Otherwise it is interpreted as absolute sizes of the training
        sets. Note that for classification the number of samples usually have
        to be big enough to contain at least one sample from each class.
        (default: np.linspace(0.1, 1.0, 5))
    """
    if axes is None:
        _, axes = plt.subplots(1, 3, figsize=(20, 5))

    axes[0].set_title(title)
    if ylim is not None:
        axes[0].set_ylim(*ylim)
    axes[0].set_xlabel("Training examples")
    axes[0].set_ylabel("Score")

    train_sizes, train_scores, test_scores, fit_times, _ = \
        learning_curve(estimator, X, y, cv=cv, n_jobs=n_jobs,
                       train_sizes=train_sizes,
                       return_times=True)
    train_scores_mean = np.mean(train_scores, axis=1)
    train_scores_std = np.std(train_scores, axis=1)
    test_scores_mean = np.mean(test_scores, axis=1)
    test_scores_std = np.std(test_scores, axis=1)
    fit_times_mean = np.mean(fit_times, axis=1)
    fit_times_std = np.std(fit_times, axis=1)

    # Plot learning curve
    axes[0].grid()
    axes[0].fill_between(train_sizes, train_scores_mean - train_scores_std,
                         train_scores_mean + train_scores_std, alpha=0.1,
                         color="r")
    axes[0].fill_between(train_sizes, test_scores_mean - test_scores_std,
                         test_scores_mean + test_scores_std, alpha=0.1,
                         color="g")
    axes[0].plot(train_sizes, train_scores_mean, 'o-', color="r",
                 label="Training score")
    axes[0].plot(train_sizes, test_scores_mean, 'o-', color="g",
                 label="Cross-validation score")
    axes[0].legend(loc="best")

    # Plot n_samples vs fit_times
    axes[1].grid()
    axes[1].plot(train_sizes, fit_times_mean, 'o-')
    axes[1].fill_between(train_sizes, fit_times_mean - fit_times_std,
                         fit_times_mean + fit_times_std, alpha=0.1)
    axes[1].set_xlabel("Training examples")
    axes[1].set_ylabel("fit_times")
    axes[1].set_title("Scalability of the model")

    # Plot fit_time vs score
    axes[2].grid()
    axes[2].plot(fit_times_mean, test_scores_mean, 'o-')
    axes[2].fill_between(fit_times_mean, test_scores_mean - test_scores_std,
                         test_scores_mean + test_scores_std, alpha=0.1)
    axes[2].set_xlabel("fit_times")
    axes[2].set_ylabel("Score")
    axes[2].set_title("Performance of the model")
    
    return plt


# fig, axes = plt.subplots(3, 2, figsize=(10, 15))

# X, y = load_digits(return_X_y=True)

# title = "Learning Curves (Naive Bayes)"
# Cross validation with 100 iterations to get smoother mean test and train
# score curves, each time with 20% data randomly selected as a validation set.
# cv = ShuffleSplit(n_splits=100, test_size=0.2, random_state=0)

# estimator = GaussianNB()
# plot_learning_curve(estimator, title, X, y, axes=axes[:, 0], ylim=(0.7, 1.01),
                    # cv=cv, n_jobs=4)



# Changing directory to somewhere to save the models
import os
os.chdir('/content/drive/MyDrive/NINAPRO/DB2_data/')

##SVM##

# Hyperparameter Tuning for SVM
opt = BayesSearchCV(
    svm.SVC(),
    {'C': (1e-6, 1e+6, 'log-uniform'),
        'gamma': (1e-6, 1e+1, 'log-uniform'),
        'degree': (1, 8),  # integer valued parameter
        'kernel': ['linear', 'poly', 'rbf'],  # categorical parameter
     },
    n_iter=32,
    cv=3
)

opt_2 = GridSearchCV(
    svm.SVC(),
    {'C': [1,10],
        'gamma': [1e-6, 1e-4, 1e-3, 1e+1],
        'degree': (1, 8),  # integer valued parameter
        'kernel': ['linear', 'poly', 'rbf'],  # categorical parameter
     },
    cv=3
)

opt.fit(aggregate_principal_matrix , y_train)

estimator = opt.best_estimator_

# Save Optimal Model
joblib.dump(estimator,'{}_opt_model'.format(estimator.__class__.__name__))

# Save Report
y_pred= estimator.predict(aggregate_test_principal_matrix)
report = classification_report(y_test, y_pred)
joblib.dump(report,'{}_classification_report'.format(estimator.__class__.__name__))

# Save Plots
################################################################################
# Validation Curve of SVM
param_range = np.logspace(-6, -1, 5)
get_validation_curve(estimator, "gamma",param_range, aggregate_principal_matrix , y_train)
plt.savefig("{}_validation_curve.jpg".format(estimator.__class__.__name__))

# Learning Curve of SVM
fig, axes = plt.subplots(3, 1, figsize=(10, 15))
title = r"Learning Curves (SVM)"
# SVC is more expensive so we do a lower number of CV iterations:
cv = ShuffleSplit(n_splits=10, test_size=0.2, random_state=0)

plot_learning_curve(estimator, title, aggregate_principal_matrix , y_train, axes=axes[:], ylim=(0.7, 1.01),
                    cv=cv, n_jobs=4)

plt.savefig("{}_learning_curve.jpg".format(estimator.__class__.__name__))
################################################################################


##Random Forest##

# Hyperparameter Tuning for RandomForestClassifier
opt = BayesSearchCV(
    RandomForestClassifier(),
    {'n_estimators': [int(x) for x in np.linspace(start = 100, stop = 2000, num = 20)],
     'max_features': ['auto', 'sqrt'],
     'max_depth': [int(x) for x in np.linspace(10, 110, num = 11)],
     'min_samples_split': [2, 5, 10],
     'min_samples_leaf': [1, 2, 4],
     'bootstrap': [True, False],
     },
    n_iter=32,
    cv=3
)

opt.fit(aggregate_principal_matrix, y_train)

estimator = opt.best_estimator_

# Save Optimal Model
joblib.dump(estimator,'{}_opt_model'.format(estimator.__class__.__name__))

# Save Report
y_pred= estimator.predict(aggregate_test_principal_matrix)
report = classification_report(y_test,y_pred)
joblib.dump(report,'{}_classification_report'.format(estimator.__class__.__name__))

# Save Plots
################################################################################
# Validation Curve of Random Forest Classifier
param_range = np.arange(1, 250, 2)
get_validation_curve(estimator, "n_estimators",param_range, aggregate_principal_matrix, y_train)
plt.savefig("{}_validation_curve.jpg".format(estimator.__class__.__name__))

# Learning Curve of RandomForestClassifier
fig, axes = plt.subplots(3, 1, figsize=(10, 15))
title = r"Learning Curves (RandomForestClassifier)"

cv = ShuffleSplit(n_splits=10, test_size=0.2, random_state=0)

plot_learning_curve(estimator, title, aggregate_principal_matrix, y_train, axes=axes[:], ylim=(0.7, 1.01),
                    cv=cv, n_jobs=4)

plt.savefig("{}_learning_curve.jpg".format(estimator.__class__.__name__))
################################################################################

##LDA##

# Hyperparameter Tuning for LDA
opt = BayesSearchCV(
    LinearDiscriminantAnalysis(),
    {'solver': ['svd', 'lsqr', 'eigen'],
    },
    n_iter=32,
    cv=3
)

opt.fit(aggregate_principal_matrix, y_train)

estimator = opt.best_estimator_

# Save Optimal Model
joblib.dump(estimator,'{}_opt_model'.format(estimator.__class__.__name__))

# Save Report
y_pred= estimator.predict(aggregate_test_principal_matrix)
report = classification_report(y_test, y_pred)
joblib.dump(report,'{}_classification_report'.format(estimator.__class__.__name__))

# Save Plots
################################################################################
# Validation Curve of LDA
grid= ['svd', 'lsqr', 'eigen']
get_validation_curve(estimator,'solver' ,grid, aggregate_principal_matrix, y_train)
plt.savefig("{}_validation_curve.jpg".format(estimator.__class__.__name__))

# Learning Curve of LDA
fig, axes = plt.subplots(3, 1, figsize=(10, 15))
title = r"Learning Curves (LDA)"

cv = ShuffleSplit(n_splits=10, test_size=0.2, random_state=0)

plot_learning_curve(estimator, title, aggregate_principal_matrix, y_train, axes=axes[:], ylim=(0.7, 1.01),
                    cv=cv, n_jobs=4)

plt.savefig("{}_learning_curve.jpg".format(estimator.__class__.__name__))
################################################################################

##Convenience Testing Area##

1.   Begin by Mounting your google drive and importing packages above
2.   Follow the example below to navigate to the group folder
2.   Load train and test feature matrix data and labels or
2.   Pick 'principal_' for 15 column or the 'reduced_' for 600 column




os.chdir('/content/drive/MyDrive/Smart Wearable Devices: Summer Research/Software Team/SVC_saved_example')
#os.chdir('/content/drive/Shareddrives/Smart Wearable Devices: Summer Research/Software Team/SVC_saved_example')

# feature_matrix = np.load("feature_matrix.npy")
# test_feature_matrix = np.load("test_feature_matrix.npy")

y_test_S1 = np.load('y_test.npy')
y_pred_S1 = np.load('y_pred_SVC_principal_feature_model.npy')

# 15 Principal Features
principal_1 = np.load('principal_feature_matrix.npy') 
principal_test_1 = np.load('principal_test_feature_matrix.npy')

principal_2 = np.load('principal_feature_matrix.npy') 
principal_2 = np.hstack((principal_1, principal_2))
principal_test_2 = np.load('principal_test_feature_matrix.npy')
principal_test_2 = np.vstack((principal_test_1, principal_test_2))


principal_1.shape, principal_2.shape

p2 = pca_feat(principal_2, 15)
p2.shape

agg_list = []
agg_list.append(principal_1)
agg_list.append(principal_2)


def vstack_dim_helper(agg_list):
  def pca_feat(data, n_components):
      pca=PCA(n_components)
      pca.fit(data)
      x_pca=pca.transform(data)
      return pd.DataFrame(x_pca)

  agg_dims = []

  for mat in agg_list:
    agg_dims.append(mat.shape[1])
  min_dim = min(agg_dims)

  for mat in range(len(agg_list)):
    if agg_list[mat].shape[1] > min_dim:
      agg_list[mat] = pca_feat(agg_list[mat], min_dim)
  return agg_list


agg_list = vstack_dim_helper(agg_list)
agg = np.vstack(agg_list)
agg.shape

for mat in agg_list:
  print(mat.shape)

# 600 Principal Features
# reduced_feature_matrix = np.load("reduced_feature_matrix.npy")
# reduced_test_feature_matrix = np.load("reduced_test_feature_matrix.npy")

s2_train_label = y_train
s2_test_label = y_test

s1_train_label = np.load("y_train.npy")
s1_test_label = np.load("y_test.npy")

y_train.shape, y_test.shape

# Example of saving the model, the y_pred array, the classification_report

# clf1 = svm.SVC(kernel='rbf', C=10, random_state=42)
# clf1.fit(principal_feature_matrix,y_train)
# joblib.dump(clf1,'SVC_principal_feature_model')

# y_pred=clf1.predict(principal_test_feature_matrix)
# np.save('y_pred_SVC_principal_feature_model', y_pred)

# report = classification_report(y_test,y_pred)
# joblib.dump(report,'classification_report_principal_feat_model')

# print(report)

# Example of loading model object, report and y_pred array

loaded_svm_model = joblib.load('SVC_principal_feature_model')
# y_pred_SVC = np.load('y_pred_SVC_principal_feature_model.npy')
SVC_principal_report = joblib.load('classification_report_principal_feat_model')

def read_csv(path):
  # Read csv
  data=pd.read_csv(path)
  data=data.drop('Unnamed: 0',axis=1)
  return data


def Statistics(data):  
  # Classification Report 
  print("Classification Report is shown below")
  print(classification_report(data['actual labels'],data['predicted labels']))

  # Confusion matrix
  print("Confusion matrix is shown below")
  cm=confusion_matrix(data['actual labels'],data['predicted labels'])

  plt.figure(figsize=(10,7))
  sn.heatmap(cm, annot=True,cmap='Blues', fmt='g')
  plt.xlabel('Predicted')
  plt.ylabel('Truth')


print(SVC_principal_report)

#read_csv()
Statistics(SVC_principal_report)

# View the saved report
print(SVC_principal_report)

principal_feature_matrix.shape, principal_test_feature_matrix.shape

######### Testing that the scheme for stacking feature matrix works#############

number_of_subjects = 40
aggregate_principal_matrix_list = []
aggregate_test_principal_matrix_list = []

for subject in range(1,number_of_subjects+1):  
  aggregate_principal_matrix_list.append(principal_feature_matrix)
  aggregate_test_principal_matrix_list.append(principal_test_feature_matrix)

aggregate_principal_matrix = np.vstack(aggregate_principal_matrix_list)
aggregate_test_principal_matrix = np.vstack(aggregate_test_principal_matrix_list)

aggregate_principal_matrix.shape, aggregate_test_principal_matrix.shape

!pwd


from sklearn.model_selection import train_test_split
from skopt import BayesSearchCV
from sklearn import svm, datasets
from sklearn.discriminant_analysis import LinearDiscriminantAnalysis

##########################################################################
import warnings # DO NOT USE THIS WHILE TESTING
warnings.filterwarnings("ignore") # DO NOT USE THIS WHILE TESTING
###########################################################################

######## Verifying file names while changing windows #######################

# load data
iris = datasets.load_iris()
###############################################################################
# This is a toy dataset for classification, windows are technically meaningless here
##############################################################################
X_train, X_test, y_train, y_test = train_test_split( iris.data, iris.target, test_size=0.33, random_state=42)

#Since sample rate is 2000 Hz -> window length 2 = 1 ms
window_len_list = [600, 400, 200]
# These window increments all maintain 92.5% overlap
window_inc_list = [45, 30, 15]


for window in range(len(window_len_list)):
  window_len = window_len_list[window]
  window_inc = window_inc_list[window]
  print("(window length, window inc) =", (window_len, window_inc))

  # Hyperparameter Tuning for SVM
  # opt = GridSearchCV(
  #     svm.SVC(),
  #     {'C': [1,10],
  #         'gamma': [1e-6, 1e-4, 1e-3, 1e+1],
  #         'degree': (1, 8),  # integer valued parameter
  #         'kernel': ['linear', 'poly', 'rbf'],  # categorical parameter
  #     },
  #     cv=3
  # )
  # opt = GridSearchCV(
  #   RandomForestClassifier(),
  #   {'n_estimators': [int(x) for x in np.linspace(start = 100, stop = 1000, num = 5)],
  #    'max_features': ['auto', 'sqrt'],
  #    'max_depth': [int(x) for x in np.linspace(10, 100, num = 3)],
  #    'min_samples_split': [2, 5, 10],
  #    'min_samples_leaf': [1, 2, 4],
  #    'bootstrap': [True, False],
  #    },
  #   cv=3
  # )
  opt = BayesSearchCV(
    LinearDiscriminantAnalysis(),
    {'solver': ['svd', 'lsqr', 'eigen'],
    },
    cv=3
  
  )
  opt.fit(X_train, y_train)

  estimator = opt.best_estimator_

  # Save Optimal Model
  joblib.dump(estimator,'{}_opt_model_{}{}'.format(estimator.__class__.__name__,int(window_len/2),'ms'))

  # Save Report
  y_pred= estimator.predict(X_test)
  report = classification_report(y_test, y_pred, output_dict=True)
  joblib.dump(report,'{}_classification_report__dict{}{}'.format(estimator.__class__.__name__,int(window_len/2),'ms'))

  # Save Plots (2/2)
  ################################################################################
  # Validation Curve of SVC
  # param_range = np.logspace(-6, -1, 5)
  # get_validation_curve(estimator, "gamma"

  # param_range = np.arange(1, 250, 2)
  # get_validation_curve(estimator, "n_estimators",param_range, X_train, y_train)
  # plt.savefig("{}_validation_curve_{}{}.jpg".format(estimator.__class__.__name__,int(window_len/2),'ms'))


  grid= ['svd', 'lsqr', 'eigen']
  get_validation_curve(estimator,'solver' ,grid, X_train, y_train)
  plt.savefig("{}_validation_curve_{}{}.jpg".format(estimator.__class__.__name__,int(window_len/2),'ms'))

                     
  # Learning Curve of SVM
  fig, axes = plt.subplots(3, 1, figsize=(10, 15))
  title = r"Learning Curves (SVM)"
  # SVC is more expensive so we do a lower number of CV iterations:
  cv = ShuffleSplit(n_splits=10, test_size=0.2, random_state=0)

  plot_learning_curve(estimator, title, X_train, y_train, axes=axes[:], ylim=(0.7, 1.01),
                      cv=cv, n_jobs=4)

  plt.savefig("{}_learning_curve.jpg".format(estimator.__class__.__name__))
  ################################################################################
  plt.show()

from sklearn.metrics import balanced_accuracy_score   
from sklearn.metrics import accuracy_score
import seaborn as sns

def Statistics(data):  
  # Classification Report 
  report = classification_report(data['actual labels'],data['predicted labels'],output_dict=True)
  report = pd.DataFrame(report).T
  # Confusion matrix
  print("Confusion matrix is shown below")
  c_matrix=confusion_matrix(data['actual labels'],data['predicted labels'])
  FP = c_matrix.sum(axis=0) - np.diag(c_matrix) 
  FN = c_matrix.sum(axis=1) - np.diag(c_matrix)
  TP = np.diag(c_matrix)
  TN = c_matrix.sum() - (FP + FN + TP)
  FP = FP.astype(float)
  FN = FN.astype(float)
  TP = TP.astype(float)
  TN = TN.astype(float)
  # Sensitivity or positive recall
  TPR = TP/(TP+FN)
  # Specificity or true negative rate or negative recall
  TNR = TN/(TN+FP) 
  accuracy = accuracy_score(data['actual labels'],data['predicted labels'])
  TNR = np.append(TNR,[accuracy, TNR.mean(), ((TNR * report['support'][:17]).sum())/(report['support'][:17].sum())])
  report['specificity'] = TNR # adding new column specificity
  plt.figure(figsize=(40,20))
  norm_c_matrix = c_matrix.astype('float') / c_matrix.sum(axis=1)[:, np.newaxis]
  sns.heatmap(norm_c_matrix, annot=True,cmap='Blues', fmt='.2f')
  #sns.heatmap(c_matrix, annot=True,cmap='Blues', fmt='g')
  plt.xlabel('Predicted')
  plt.ylabel('Truth')
  print("Balanced_accuracy:{}".format(balanced_accuracy_score(data['actual labels'],data['predicted labels'])))
  print("Classification Report is shown below")
  return report, c_matrix, norm_c_matrix

data = []
data.append(y_test_S1)
data.append(y_pred_S1)

data = np.vstack(data).T

data_df = pd.DataFrame(data, columns = ['actual labels', 'predicted labels'])
#data_df.drop_duplicates(inplace=True)

data = data_df

rep, c_mat, norm_c_mat = Statistics(data)

plt.figure(figsize=(40,20))
sns.heatmap(norm_c_mat, annot=True,cmap='Blues', fmt='.2f')
plt.xlabel('Predicted')
plt.ylabel('Truth')

import sklearn 
print (sklearn.__version__)

SVC_toy_report = joblib.load('SVC_classification_report__dict100ms')

SVC_toy_report

toy_report = pd.DataFrame(SVC_toy_report).T
toy_report



import numpy as np
import matplotlib.pyplot as plt
from itertools import cycle

from sklearn import svm, datasets
from sklearn.metrics import roc_curve, auc
from sklearn.model_selection import train_test_split
from sklearn.preprocessing import label_binarize
from sklearn.multiclass import OneVsRestClassifier
from scipy import interp
from sklearn.metrics import roc_auc_score

labels=y_train.unique()          #or y_all.unique()
y = label_binarize(y_train, classes=labels)      
n_classes = y.shape[1]
x= aggregate_principal_matrix

X_train, X_test, y_train, y_test = train_test_split(x, y, test_size=.5,
                                                    random_state=0)

classifier = OneVsRestClassifier(svm.SVC(kernel='linear', probability=True, gamma=0.001,
                                 random_state=0))
y_score_svc = classifier.fit(X_train, y_train).decision_function(X_test)

fpr = dict()
tpr = dict()
roc_auc = dict()
for i in range(n_classes):
    fpr[i], tpr[i], _ = roc_curve(y_test[:, i], y_score_svc[:, i])
    roc_auc[i] = auc(fpr[i], tpr[i])

# Compute micro-average ROC curve and ROC area
fpr["micro"], tpr["micro"], _ = roc_curve(y_test[:].ravel(), y_score_svc.ravel())
roc_auc["micro"] = auc(fpr["micro"], tpr["micro"])

plt.figure()
lw = 2
plt.plot(fpr[2], tpr[2], color='darkorange',
         lw=lw, label='ROC curve (area = %0.2f)' % roc_auc[2])
plt.plot([0, 1], [0, 1], color='navy', lw=lw, linestyle='--')
plt.xlim([0.0, 1.0])
plt.ylim([0.0, 1.05])
plt.xlabel('False Positive Rate')
plt.ylabel('True Positive Rate')
plt.title('Receiver operating characteristic example')
plt.legend(loc="lower right")
plt.show()

from sklearn.ensemble import RandomForestClassifier
classifier = OneVsRestClassifier(RandomForestClassifier(min_samples_leaf=5))
classifier.fit(X_train, y_train)
y_score_rfc=classifier.predict(X_test)

fpr = dict()
tpr = dict()
roc_auc = dict()
for i in range(n_classes):
    fpr[i], tpr[i], _ = roc_curve(y_test[:, i], y_score_rfc[:, i])
    roc_auc[i] = auc(fpr[i], tpr[i])

# Compute micro-average ROC curve and ROC area
fpr["micro"], tpr["micro"], _ = roc_curve(y_test[:].ravel(), y_score_rfc.ravel())
roc_auc["micro"] = auc(fpr["micro"], tpr["micro"])

plt.figure()
lw = 2
plt.plot(fpr[2], tpr[2], color='darkorange',
         lw=lw, label='ROC curve (area = %0.2f)' % roc_auc[2])
plt.plot([0, 1], [0, 1], color='navy', lw=lw, linestyle='--')
plt.xlim([0.0, 1.0])
plt.ylim([0.0, 1.05])
plt.xlabel('False Positive Rate')
plt.ylabel('True Positive Rate')
plt.title('Receiver operating characteristic example')
plt.legend(loc="lower right")
plt.show()

from sklearn.discriminant_analysis import LinearDiscriminantAnalysis
classifier = OneVsRestClassifier(LinearDiscriminantAnalysis())
classifier.fit(X_train, y_train)
y_score_lda=classifier.predict(X_test)

fpr = dict()
tpr = dict()
roc_auc = dict()
for i in range(n_classes):
    fpr[i], tpr[i], _ = roc_curve(y_test[:, i], y_score_lda[:, i])
    roc_auc[i] = auc(fpr[i], tpr[i])

# Compute micro-average ROC curve and ROC area
fpr["micro"], tpr["micro"], _ = roc_curve(y_test[:].ravel(), y_score_lda.ravel())
roc_auc["micro"] = auc(fpr["micro"], tpr["micro"])

plt.figure()
lw = 2
plt.plot(fpr[2], tpr[2], color='darkorange',
         lw=lw, label='ROC curve (area = %0.2f)' % roc_auc[2])
plt.plot([0, 1], [0, 1], color='navy', lw=lw, linestyle='--')
plt.xlim([0.0, 1.0])
plt.ylim([0.0, 1.05])
plt.xlabel('False Positive Rate')
plt.ylabel('True Positive Rate')
plt.title('Receiver operating characteristic example')
plt.legend(loc="lower right")
plt.show()

df = pd.DataFrame(data_dict)

##CLASS REDUCTION TESTING##



subject = 1
window_len = 600
window_inc = 45
info_dict = db2_info() 

# Create a random test - training split based on repetition number (specify a set to include)
data_dict = nina_helper.import_db2(db2_path, subject, rest_length_cap=5)

# Keep only movements 0-16
movements = data_dict['move']
pop_movements = [i for i,v in enumerate(movements) if v > 16]
data_dict = np.delete(data_dict, pop_movements, axis=0) 

reps = info_dict['rep_labels']
nb_test_reps = 2
nb_splits = 12
train_reps, test_reps = gen_split_rand(reps, nb_test_reps, nb_splits, base=[2, 5])

# Normalise EMG data based on training set
emg_data = normalise_emg(data_dict['emg'], data_dict['rep'], train_reps[0, :])
emg_data=pd.DataFrame(emg_data)

emg_band = filter_data(data=emg_data, f=(0.5,200), butterworth_order=4, btype='bandpass', fs=2000)
emg_notch = notch_filter(data=emg_band,f0=60,Q=30,fs=2000)
emg_filtered = emg_notch.to_numpy()

x_all, y_all, r_all = get_windows(reps, window_len, window_inc,
                              emg_filtered, data_dict['move'],
                              data_dict['rep'])

os.chdir('/content/drive/MyDrive/Smart Wearable Devices: Summer Research/Software Team/agg_feature_label_data_300ms/New_3subj_17label_data')
#os.chdir('/content/drive/Shareddrives/Smart Wearable Devices: Summer Research/Software Team/agg_feature_label_data_300ms')

# 3 Subject
# 17 label
# 98 Principal Features
X_train = np.load('3s_17l_train_matrix_300ms.npy') 
X_test = np.load('3s_17l_test_matrix_300ms.npy')

y_train = np.load('aggregate_17labels_300ms.npy') 
y_test = np.load('aggregate_17test_labels_300ms.npy')


print(X_train.shape, X_test.shape, y_train.shape, y_test.shape)

pop_train = [i for i,v in enumerate(y_train) if v > 17 or v <= 0]
pop_test = [i for i,v in enumerate(y_test) if v > 17 or v <= 0]

# Only keep labels 1-16
X_train = np.delete(X_train, pop_train, axis=0)
X_test = np.delete(X_test, pop_test, axis=0)
y_train = np.delete(y_train, pop_train, axis=0)
y_test = np.delete(y_test, pop_test, axis=0)

print(X_train.shape, X_test.shape, y_train.shape, y_test.shape)

train_idx = get_idxs(r_all, train_reps[0, :])
X_train = np.squeeze(x_all[train_idx, :, :, :])
y_train = y_all[train_idx]

test_idx = get_idxs(r_all, test_reps[0, :])
X_test =  np.squeeze(x_all[test_idx, :, :, :])
y_test = y_all[test_idx]

pop_train = [i for i,v in enumerate(y_train) if v > 16]
pop_test = [i for i,v in enumerate(y_test) if v > 16]

X_train = np.delete(X_train, pop_train, axis=0)
X_test = np.delete(X_test, pop_test, axis=0)
y_train = np.delete(y_train, pop_train, axis=0)
y_test = np.delete(y_test, pop_test, axis=0)


print(X_train.shape, X_test.shape, y_train.shape, y_test.shape)

##Depricated##

"clf = svm.SVC()
clf.fit(X_train, y_train) # I guess we could replace X_train by the feature_matrix. This perhaps needs to be changed for all models
y_pred = clf.predict(X_test) # Similarly X_test could be replaced by test_feature_matrix. Any opinion?

print("Test Accuracy SVM:", metrics.accuracy_score(y_test, y_pred))

save_model(clf,"SVM.sav")

clf = RandomForestClassifier(min_samples_leaf=5)
clf.fit(X_train, y_train)
y_pred = clf.predict(X_test)

print("Test Accuracy RF:", metrics.accuracy_score(y_test, y_pred))

save_model(clf,"Random_Forest.sav")

clf = LinearDiscriminantAnalysis()
clf.fit(X_train, y_train)
y_pred = clf.predict(X_test)

print("Test Accuracy LDA:", metrics.accuracy_score(y_test, y_pred))

save_model(clf,"LDA.sav")

from sklearn.model_selection import validation_curve

def get_validation_curve(classifier,parameter,param_range,X,y): # A generalized function to plot validation curve for all 3 classifiers.
  train_scores, test_scores = validation_curve(
    classifier, X, y, param_name=parameter, param_range=param_range,
    scoring="accuracy", n_jobs=1)
  train_scores_mean = np.mean(train_scores, axis=1)
  train_scores_std = np.std(train_scores, axis=1)
  test_scores_mean = np.mean(test_scores, axis=1)
  test_scores_std = np.std(test_scores, axis=1)

  plt.title("Validation Curve with {}".format(classifier.__class__.__name__))
  plt.xlabel(str(parameter))
  plt.ylabel("Score")
  plt.ylim(0.0, 1.1)
  lw = 2
  plt.semilogx(param_range, train_scores_mean, label="Training score",
              color="darkorange", lw=lw)
  plt.fill_between(param_range, train_scores_mean - train_scores_std,
                  train_scores_mean + train_scores_std, alpha=0.2,
                  color="darkorange", lw=lw)
  plt.semilogx(param_range, test_scores_mean, label="Cross-validation score",
              color="navy", lw=lw)
  plt.fill_between(param_range, test_scores_mean - test_scores_std,
                  test_scores_mean + test_scores_std, alpha=0.2,
                  color="navy", lw=lw)
  plt.legend(loc="best")
  plt.savefig("validation_curve_{}.jpg".format(classifier.__class__.__name__))
  plt.show()

from sklearn.datasets import load_digits
from sklearn.model_selection import learning_curve
from sklearn.model_selection import ShuffleSplit #can also use K-fold stratified or some other cv generator


def plot_learning_curve(estimator, title, X, y, axes=None, ylim=None, cv=None,
                        n_jobs=None, train_sizes=np.linspace(.1, 1.0, 5)):
    """
    Generate 3 plots: the test and training learning curve, the training
    samples vs fit times curve, the fit times vs score curve.

    Parameters
    ----------
    estimator : estimator instance
        An estimator instance implementing `fit` and `predict` methods which
        will be cloned for each validation.

    title : str
        Title for the chart.

    X : array-like of shape (n_samples, n_features)
        Training vector, where ``n_samples`` is the number of samples and
        ``n_features`` is the number of features.

    y : array-like of shape (n_samples) or (n_samples, n_features)
        Target relative to ``X`` for classification or regression;
        None for unsupervised learning.

    axes : array-like of shape (3,), default=None
        Axes to use for plotting the curves.

    ylim : tuple of shape (2,), default=None
        Defines minimum and maximum y-values plotted, e.g. (ymin, ymax).

    cv : int, cross-validation generator or an iterable, default=None
        Determines the cross-validation splitting strategy.
        Possible inputs for cv are:

          - None, to use the default 5-fold cross-validation,
          - integer, to specify the number of folds.
          - :term:`CV splitter`,
          - An iterable yielding (train, test) splits as arrays of indices.

        For integer/None inputs, if ``y`` is binary or multiclass,
        :class:`StratifiedKFold` used. If the estimator is not a classifier
        or if ``y`` is neither binary nor multiclass, :class:`KFold` is used.

        Refer :ref:`User Guide <cross_validation>` for the various
        cross-validators that can be used here.

    n_jobs : int or None, default=None
        Number of jobs to run in parallel.
        ``None`` means 1 unless in a :obj:`joblib.parallel_backend` context.
        ``-1`` means using all processors. See :term:`Glossary <n_jobs>`
        for more details.

    train_sizes : array-like of shape (n_ticks,)
        Relative or absolute numbers of training examples that will be used to
        generate the learning curve. If the ``dtype`` is float, it is regarded
        as a fraction of the maximum size of the training set (that is
        determined by the selected validation method), i.e. it has to be within
        (0, 1]. Otherwise it is interpreted as absolute sizes of the training
        sets. Note that for classification the number of samples usually have
        to be big enough to contain at least one sample from each class.
        (default: np.linspace(0.1, 1.0, 5))
    """
    if axes is None:
        _, axes = plt.subplots(1, 3, figsize=(20, 5))

    axes[0].set_title(title)
    if ylim is not None:
        axes[0].set_ylim(*ylim)
    axes[0].set_xlabel("Training examples")
    axes[0].set_ylabel("Score")

    train_sizes, train_scores, test_scores, fit_times, _ = \
        learning_curve(estimator, X, y, cv=cv, n_jobs=n_jobs,
                       train_sizes=train_sizes,
                       return_times=True)
    train_scores_mean = np.mean(train_scores, axis=1)
    train_scores_std = np.std(train_scores, axis=1)
    test_scores_mean = np.mean(test_scores, axis=1)
    test_scores_std = np.std(test_scores, axis=1)
    fit_times_mean = np.mean(fit_times, axis=1)
    fit_times_std = np.std(fit_times, axis=1)

    # Plot learning curve
    axes[0].grid()
    axes[0].fill_between(train_sizes, train_scores_mean - train_scores_std,
                         train_scores_mean + train_scores_std, alpha=0.1,
                         color="r")
    axes[0].fill_between(train_sizes, test_scores_mean - test_scores_std,
                         test_scores_mean + test_scores_std, alpha=0.1,
                         color="g")
    axes[0].plot(train_sizes, train_scores_mean, 'o-', color="r",
                 label="Training score")
    axes[0].plot(train_sizes, test_scores_mean, 'o-', color="g",
                 label="Cross-validation score")
    axes[0].legend(loc="best")

    # Plot n_samples vs fit_times
    axes[1].grid()
    axes[1].plot(train_sizes, fit_times_mean, 'o-')
    axes[1].fill_between(train_sizes, fit_times_mean - fit_times_std,
                         fit_times_mean + fit_times_std, alpha=0.1)
    axes[1].set_xlabel("Training examples")
    axes[1].set_ylabel("fit_times")
    axes[1].set_title("Scalability of the model")

    # Plot fit_time vs score
    axes[2].grid()
    axes[2].plot(fit_times_mean, test_scores_mean, 'o-')
    axes[2].fill_between(fit_times_mean, test_scores_mean - test_scores_std,
                         test_scores_mean + test_scores_std, alpha=0.1)
    axes[2].set_xlabel("fit_times")
    axes[2].set_ylabel("Score")
    axes[2].set_title("Performance of the model")

    plt.savefig("learning_curve_{}.jpg".format(estimator.__class__.__name__))
    return plt


# fig, axes = plt.subplots(3, 2, figsize=(10, 15))

# X, y = load_digits(return_X_y=True)

# title = "Learning Curves (Naive Bayes)"
# Cross validation with 100 iterations to get smoother mean test and train
# score curves, each time with 20% data randomly selected as a validation set.
# cv = ShuffleSplit(n_splits=100, test_size=0.2, random_state=0)

# estimator = GaussianNB()
# plot_learning_curve(estimator, title, X, y, axes=axes[:, 0], ylim=(0.7, 1.01),
                    # cv=cv, n_jobs=4)



fig, axes = plt.subplots(3, 2, figsize=(10, 15))
title = r"Learning Curves (SVM, RBF kernel, $\gamma=0.001$)"
# SVC is more expensive so we do a lower number of CV iterations:
cv = ShuffleSplit(n_splits=10, test_size=0.2, random_state=0)
estimator = SVC(gamma=0.001)
plot_learning_curve(estimator, title, X_train, y_train, axes=axes[:, 1], ylim=(0.7, 1.01),
                    cv=cv, n_jobs=4)

#plt.savefig("SVM_learning_curve")
plt.show()

# Validation Curve of SVM
param_range = np.logspace(-6, -1, 5)
get_validation_curve(SVM(), "gamma",param_range, X_train, y_train )

fig, axes = plt.subplots(3, 2, figsize=(10, 15))
title = r"Learning Curves (RandomForestClassifier, min 5 samples leaf)"
cv = ShuffleSplit(n_splits=10, test_size=0.2, random_state=0)
estimator = RandomForestClassifier(min_samples_leaf=5)
plot_learning_curve(estimator, title, X_train, y_train, axes=axes[:, 1], ylim=(0.7, 1.01),
                    cv=cv, n_jobs=4)

plt.savefig("Random_forest_learning_curve")
plt.show()

# Validation Curve of Random Forest Classifier
param_range = np.arange(1, 250, 2)
get_validation_curve(RandomForestClassifier(), "n_estimators",param_range, X_train, y_train )

fig, axes = plt.subplots(3, 2, figsize=(10, 15))
title = r"Learning Curves (LinearDiscriminantAnalysis())"
cv = ShuffleSplit(n_splits=10, test_size=0.2, random_state=0)
estimator = LinearDiscriminantAnalysis()
plot_learning_curve(estimator, title, X_train, y_train, axes=axes[:, 1], ylim=(0.7, 1.01),
                    cv=cv, n_jobs=4)

plt.savefig("LDA_learning_curve")
plt.show()

# Validation Curve of LDA
grid= ['svd', 'lsqr', 'eigen']
get_validation_curve(LinearDiscriminantAnalysis(),'solver' ,grid, X_train, y_train )

# ThunderSVM

!wget https://developer.nvidia.com/compute/cuda/9.0/Prod/local_installers/cuda-repo-ubuntu1704-9-0-local_9.0.176-1_amd64-deb

!ls

!dpkg -i cuda-repo-ubuntu1704-9-0-local_9.0.176-1_amd64-deb

!ls /var/cuda-repo-9-0-local | grep .pub

!apt-key add /var/cuda-repo-9-0-local/7fa2af80.pub

!apt-get update

!sudo apt-get install cuda-9.0

!nvcc --version

!pip install thundersvm-cpu   # incase of compatibility issues while using thundersvm-gpu, we could leverage thundersvm-cpu

!pip install thundersvm  # use this if we have CUDA 9.0 installed

Training on sample IRIS dataset

from thundersvm import SVC
from sklearn.model_selection import train_test_split
from sklearn import datasets
iris = datasets.load_iris()
X_train, X_test, y_train, y_test = train_test_split( iris.data, iris.target, test_size=0.33, random_state=42)

model = SVC(C=100, kernel='rbf')
model.fit(X_train, y_train)
y_pred = model.predict(X_test)
print(classification_report(y_test,y_pred))

plot_learning_curve(model,'ThunderSVM', X_train, y_train, ylim=(0.1, 1.01),
                    cv=3, n_jobs=4)

Training on 3 Subject's feature matrix.

feature_matrix = np.load("/content/drive/MyDrive/Smart Wearable Devices: Summer Research/Software Team/agg_feature_label_data_300ms/New_3subj_17label_data/3s_17l_train_matrix_300ms.npy",mmap_mode='r')
test_feature_matrix = np.load("/content/drive/MyDrive/Smart Wearable Devices: Summer Research/Software Team/agg_feature_label_data_300ms/New_3subj_17label_data/3s_17l_test_matrix_300ms.npy",mmap_mode='r')
y_labels = np.load("/content/drive/MyDrive/Smart Wearable Devices: Summer Research/Software Team/agg_feature_label_data_300ms/New_3subj_17label_data/17_train_labels_300ms.npy",mmap_mode='r')
y_test_labels = np.load("/content/drive/MyDrive/Smart Wearable Devices: Summer Research/Software Team/agg_feature_label_data_300ms/New_3subj_17label_data/17_test_labels_300ms.npy",mmap_mode='r')

model1 = SVC(C=1, kernel='rbf')
model1.fit(feature_matrix, y_labels)
y_pred = model1.predict(test_feature_matrix)
print(classification_report(y_test_labels,y_pred))

plot_learning_curve(model1,'ThunderSVM_3subjects',feature_matrix, y_labels, ylim=(0.1, 1.01),
                    cv=2, n_jobs=4)

data = []
data.append(y_test_labels)
data.append(y_pred)
data = np.vstack(data).T
data_df = pd.DataFrame(data, columns = ['actual labels', 'predicted labels'])
data =data_df

rep, c_mat, norm_c_mat = Statistics(data)

rep

joblib.dump(rep,'ThunderSVM_3s_17l_300ms_classification_report')
joblib.dump(c_mat,'ThunderSVM_3s_17l_300ms_confusion_matrix')
joblib.dump(norm_c_mat,'ThunderSVM_3s_17l_300ms_norm_confusion_matrix')

# ThunderGBM


!wget https://developer.nvidia.com/compute/cuda/9.0/Prod/local_installers/cuda-repo-ubuntu1704-9-0-local_9.0.176-1_amd64-deb


!ls

!dpkg -i cuda-repo-ubuntu1704-9-0-local_9.0.176-1_amd64-deb

!ls /var/cuda-repo-9-0-local | grep .pub

!apt-key add /var/cuda-repo-9-0-local/7fa2af80.pub

!apt-get update

!sudo apt-get install cuda-9.0

!nvcc --version

!pip install thundergbm 

Training on sample IRIS dataset


from thundergbm import TGBMClassifier
from sklearn.model_selection import train_test_split
from sklearn.metrics import confusion_matrix, classification_report
from sklearn import datasets
iris = datasets.load_iris()
X_train, X_test, y_train, y_test = train_test_split( iris.data, iris.target, test_size=0.33, random_state=42)

model = TGBMClassifier()
model.fit(X_train, y_train)
y_pred = model.predict(X_test)
print(classification_report(y_test,y_pred))

plot_learning_curve(model,'ThunderGBM', X_train, y_train, ylim=(0.1, 1.01),
                    cv=3, n_jobs=4)

Training on 3 Subject's feature matrix.

feature_matrix = np.load("/content/drive/MyDrive/Smart Wearable Devices: Summer Research/Software Team/agg_feature_label_data_300ms/New_3subj_17label_data/3s_17l_train_matrix_300ms.npy",mmap_mode='r')
test_feature_matrix = np.load("/content/drive/MyDrive/Smart Wearable Devices: Summer Research/Software Team/agg_feature_label_data_300ms/New_3subj_17label_data/3s_17l_test_matrix_300ms.npy",mmap_mode='r')
y_labels = np.load("/content/drive/MyDrive/Smart Wearable Devices: Summer Research/Software Team/agg_feature_label_data_300ms/New_3subj_17label_data/17_train_labels_300ms.npy",mmap_mode='r')
y_test_labels = np.load("/content/drive/MyDrive/Smart Wearable Devices: Summer Research/Software Team/agg_feature_label_data_300ms/New_3subj_17label_data/17_test_labels_300ms.npy",mmap_mode='r')
